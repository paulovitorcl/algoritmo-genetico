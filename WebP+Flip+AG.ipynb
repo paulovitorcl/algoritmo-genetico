{
  "nbformat": 4,
  "nbformat_minor": 0,
  "metadata": {
    "colab": {
      "provenance": [],
      "authorship_tag": "ABX9TyMn2ASW5cGeXlM0/Y/SANuQ",
      "include_colab_link": true
    },
    "kernelspec": {
      "name": "python3",
      "display_name": "Python 3"
    },
    "language_info": {
      "name": "python"
    }
  },
  "cells": [
    {
      "cell_type": "markdown",
      "metadata": {
        "id": "view-in-github",
        "colab_type": "text"
      },
      "source": [
        "<a href=\"https://colab.research.google.com/github/paulovitorcl/algoritmo-genetico/blob/main/WebP%2BFlip%2BAG.ipynb\" target=\"_parent\"><img src=\"https://colab.research.google.com/assets/colab-badge.svg\" alt=\"Open In Colab\"/></a>"
      ]
    },
    {
      "cell_type": "markdown",
      "source": [
        "# Método WebP + Flip + AG como solução para ataques adversariais"
      ],
      "metadata": {
        "id": "lTTqOd58hMgD"
      }
    },
    {
      "cell_type": "markdown",
      "source": [
        "## 1 - Instalação das dependências"
      ],
      "metadata": {
        "id": "VDvmGtj_hqn3"
      }
    },
    {
      "cell_type": "code",
      "execution_count": null,
      "metadata": {
        "id": "Egv_jGUvhDJe",
        "colab": {
          "base_uri": "https://localhost:8080/"
        },
        "collapsed": true,
        "outputId": "66d5647c-35b0-43a0-98d9-28af23687ad2"
      },
      "outputs": [
        {
          "output_type": "stream",
          "name": "stdout",
          "text": [
            "Requirement already satisfied: numpy in /usr/local/lib/python3.10/dist-packages (1.26.4)\n",
            "Requirement already satisfied: pillow in /usr/local/lib/python3.10/dist-packages (10.4.0)\n",
            "Requirement already satisfied: tensorflow in /usr/local/lib/python3.10/dist-packages (2.17.0)\n",
            "Requirement already satisfied: deap in /usr/local/lib/python3.10/dist-packages (1.4.1)\n",
            "Requirement already satisfied: matplotlib in /usr/local/lib/python3.10/dist-packages (3.7.1)\n",
            "Requirement already satisfied: absl-py>=1.0.0 in /usr/local/lib/python3.10/dist-packages (from tensorflow) (1.4.0)\n",
            "Requirement already satisfied: astunparse>=1.6.0 in /usr/local/lib/python3.10/dist-packages (from tensorflow) (1.6.3)\n",
            "Requirement already satisfied: flatbuffers>=24.3.25 in /usr/local/lib/python3.10/dist-packages (from tensorflow) (24.3.25)\n",
            "Requirement already satisfied: gast!=0.5.0,!=0.5.1,!=0.5.2,>=0.2.1 in /usr/local/lib/python3.10/dist-packages (from tensorflow) (0.6.0)\n",
            "Requirement already satisfied: google-pasta>=0.1.1 in /usr/local/lib/python3.10/dist-packages (from tensorflow) (0.2.0)\n",
            "Requirement already satisfied: h5py>=3.10.0 in /usr/local/lib/python3.10/dist-packages (from tensorflow) (3.11.0)\n",
            "Requirement already satisfied: libclang>=13.0.0 in /usr/local/lib/python3.10/dist-packages (from tensorflow) (18.1.1)\n",
            "Requirement already satisfied: ml-dtypes<0.5.0,>=0.3.1 in /usr/local/lib/python3.10/dist-packages (from tensorflow) (0.4.1)\n",
            "Requirement already satisfied: opt-einsum>=2.3.2 in /usr/local/lib/python3.10/dist-packages (from tensorflow) (3.4.0)\n",
            "Requirement already satisfied: packaging in /usr/local/lib/python3.10/dist-packages (from tensorflow) (24.1)\n",
            "Requirement already satisfied: protobuf!=4.21.0,!=4.21.1,!=4.21.2,!=4.21.3,!=4.21.4,!=4.21.5,<5.0.0dev,>=3.20.3 in /usr/local/lib/python3.10/dist-packages (from tensorflow) (3.20.3)\n",
            "Requirement already satisfied: requests<3,>=2.21.0 in /usr/local/lib/python3.10/dist-packages (from tensorflow) (2.32.3)\n",
            "Requirement already satisfied: setuptools in /usr/local/lib/python3.10/dist-packages (from tensorflow) (71.0.4)\n",
            "Requirement already satisfied: six>=1.12.0 in /usr/local/lib/python3.10/dist-packages (from tensorflow) (1.16.0)\n",
            "Requirement already satisfied: termcolor>=1.1.0 in /usr/local/lib/python3.10/dist-packages (from tensorflow) (2.4.0)\n",
            "Requirement already satisfied: typing-extensions>=3.6.6 in /usr/local/lib/python3.10/dist-packages (from tensorflow) (4.12.2)\n",
            "Requirement already satisfied: wrapt>=1.11.0 in /usr/local/lib/python3.10/dist-packages (from tensorflow) (1.16.0)\n",
            "Requirement already satisfied: grpcio<2.0,>=1.24.3 in /usr/local/lib/python3.10/dist-packages (from tensorflow) (1.64.1)\n",
            "Requirement already satisfied: tensorboard<2.18,>=2.17 in /usr/local/lib/python3.10/dist-packages (from tensorflow) (2.17.0)\n",
            "Requirement already satisfied: keras>=3.2.0 in /usr/local/lib/python3.10/dist-packages (from tensorflow) (3.4.1)\n",
            "Requirement already satisfied: tensorflow-io-gcs-filesystem>=0.23.1 in /usr/local/lib/python3.10/dist-packages (from tensorflow) (0.37.1)\n",
            "Requirement already satisfied: contourpy>=1.0.1 in /usr/local/lib/python3.10/dist-packages (from matplotlib) (1.3.0)\n",
            "Requirement already satisfied: cycler>=0.10 in /usr/local/lib/python3.10/dist-packages (from matplotlib) (0.12.1)\n",
            "Requirement already satisfied: fonttools>=4.22.0 in /usr/local/lib/python3.10/dist-packages (from matplotlib) (4.54.1)\n",
            "Requirement already satisfied: kiwisolver>=1.0.1 in /usr/local/lib/python3.10/dist-packages (from matplotlib) (1.4.7)\n",
            "Requirement already satisfied: pyparsing>=2.3.1 in /usr/local/lib/python3.10/dist-packages (from matplotlib) (3.1.4)\n",
            "Requirement already satisfied: python-dateutil>=2.7 in /usr/local/lib/python3.10/dist-packages (from matplotlib) (2.8.2)\n",
            "Requirement already satisfied: wheel<1.0,>=0.23.0 in /usr/local/lib/python3.10/dist-packages (from astunparse>=1.6.0->tensorflow) (0.44.0)\n",
            "Requirement already satisfied: rich in /usr/local/lib/python3.10/dist-packages (from keras>=3.2.0->tensorflow) (13.8.1)\n",
            "Requirement already satisfied: namex in /usr/local/lib/python3.10/dist-packages (from keras>=3.2.0->tensorflow) (0.0.8)\n",
            "Requirement already satisfied: optree in /usr/local/lib/python3.10/dist-packages (from keras>=3.2.0->tensorflow) (0.12.1)\n",
            "Requirement already satisfied: charset-normalizer<4,>=2 in /usr/local/lib/python3.10/dist-packages (from requests<3,>=2.21.0->tensorflow) (3.3.2)\n",
            "Requirement already satisfied: idna<4,>=2.5 in /usr/local/lib/python3.10/dist-packages (from requests<3,>=2.21.0->tensorflow) (3.10)\n",
            "Requirement already satisfied: urllib3<3,>=1.21.1 in /usr/local/lib/python3.10/dist-packages (from requests<3,>=2.21.0->tensorflow) (2.2.3)\n",
            "Requirement already satisfied: certifi>=2017.4.17 in /usr/local/lib/python3.10/dist-packages (from requests<3,>=2.21.0->tensorflow) (2024.8.30)\n",
            "Requirement already satisfied: markdown>=2.6.8 in /usr/local/lib/python3.10/dist-packages (from tensorboard<2.18,>=2.17->tensorflow) (3.7)\n",
            "Requirement already satisfied: tensorboard-data-server<0.8.0,>=0.7.0 in /usr/local/lib/python3.10/dist-packages (from tensorboard<2.18,>=2.17->tensorflow) (0.7.2)\n",
            "Requirement already satisfied: werkzeug>=1.0.1 in /usr/local/lib/python3.10/dist-packages (from tensorboard<2.18,>=2.17->tensorflow) (3.0.4)\n",
            "Requirement already satisfied: MarkupSafe>=2.1.1 in /usr/local/lib/python3.10/dist-packages (from werkzeug>=1.0.1->tensorboard<2.18,>=2.17->tensorflow) (2.1.5)\n",
            "Requirement already satisfied: markdown-it-py>=2.2.0 in /usr/local/lib/python3.10/dist-packages (from rich->keras>=3.2.0->tensorflow) (3.0.0)\n",
            "Requirement already satisfied: pygments<3.0.0,>=2.13.0 in /usr/local/lib/python3.10/dist-packages (from rich->keras>=3.2.0->tensorflow) (2.18.0)\n",
            "Requirement already satisfied: mdurl~=0.1 in /usr/local/lib/python3.10/dist-packages (from markdown-it-py>=2.2.0->rich->keras>=3.2.0->tensorflow) (0.1.2)\n",
            "Requirement already satisfied: cleverhans==3.1.0 in /usr/local/lib/python3.10/dist-packages (3.1.0)\n",
            "Requirement already satisfied: nose in /usr/local/lib/python3.10/dist-packages (from cleverhans==3.1.0) (1.3.7)\n",
            "Requirement already satisfied: pycodestyle in /usr/local/lib/python3.10/dist-packages (from cleverhans==3.1.0) (2.12.1)\n",
            "Requirement already satisfied: scipy in /usr/local/lib/python3.10/dist-packages (from cleverhans==3.1.0) (1.13.1)\n",
            "Requirement already satisfied: matplotlib in /usr/local/lib/python3.10/dist-packages (from cleverhans==3.1.0) (3.7.1)\n",
            "Requirement already satisfied: mnist~=0.2 in /usr/local/lib/python3.10/dist-packages (from cleverhans==3.1.0) (0.2.2)\n",
            "Requirement already satisfied: numpy in /usr/local/lib/python3.10/dist-packages (from cleverhans==3.1.0) (1.26.4)\n",
            "Requirement already satisfied: tensorflow-probability in /usr/local/lib/python3.10/dist-packages (from cleverhans==3.1.0) (0.24.0)\n",
            "Requirement already satisfied: joblib in /usr/local/lib/python3.10/dist-packages (from cleverhans==3.1.0) (1.4.2)\n",
            "Requirement already satisfied: contourpy>=1.0.1 in /usr/local/lib/python3.10/dist-packages (from matplotlib->cleverhans==3.1.0) (1.3.0)\n",
            "Requirement already satisfied: cycler>=0.10 in /usr/local/lib/python3.10/dist-packages (from matplotlib->cleverhans==3.1.0) (0.12.1)\n",
            "Requirement already satisfied: fonttools>=4.22.0 in /usr/local/lib/python3.10/dist-packages (from matplotlib->cleverhans==3.1.0) (4.54.1)\n",
            "Requirement already satisfied: kiwisolver>=1.0.1 in /usr/local/lib/python3.10/dist-packages (from matplotlib->cleverhans==3.1.0) (1.4.7)\n",
            "Requirement already satisfied: packaging>=20.0 in /usr/local/lib/python3.10/dist-packages (from matplotlib->cleverhans==3.1.0) (24.1)\n",
            "Requirement already satisfied: pillow>=6.2.0 in /usr/local/lib/python3.10/dist-packages (from matplotlib->cleverhans==3.1.0) (10.4.0)\n",
            "Requirement already satisfied: pyparsing>=2.3.1 in /usr/local/lib/python3.10/dist-packages (from matplotlib->cleverhans==3.1.0) (3.1.4)\n",
            "Requirement already satisfied: python-dateutil>=2.7 in /usr/local/lib/python3.10/dist-packages (from matplotlib->cleverhans==3.1.0) (2.8.2)\n",
            "Requirement already satisfied: absl-py in /usr/local/lib/python3.10/dist-packages (from tensorflow-probability->cleverhans==3.1.0) (1.4.0)\n",
            "Requirement already satisfied: six>=1.10.0 in /usr/local/lib/python3.10/dist-packages (from tensorflow-probability->cleverhans==3.1.0) (1.16.0)\n",
            "Requirement already satisfied: decorator in /usr/local/lib/python3.10/dist-packages (from tensorflow-probability->cleverhans==3.1.0) (4.4.2)\n",
            "Requirement already satisfied: cloudpickle>=1.3 in /usr/local/lib/python3.10/dist-packages (from tensorflow-probability->cleverhans==3.1.0) (2.2.1)\n",
            "Requirement already satisfied: gast>=0.3.2 in /usr/local/lib/python3.10/dist-packages (from tensorflow-probability->cleverhans==3.1.0) (0.6.0)\n",
            "Requirement already satisfied: dm-tree in /usr/local/lib/python3.10/dist-packages (from tensorflow-probability->cleverhans==3.1.0) (0.1.8)\n",
            "Collecting adversarial-robustness-toolbox\n",
            "  Downloading adversarial_robustness_toolbox-1.18.1-py3-none-any.whl.metadata (11 kB)\n",
            "Requirement already satisfied: numpy>=1.18.0 in /usr/local/lib/python3.10/dist-packages (from adversarial-robustness-toolbox) (1.26.4)\n",
            "Requirement already satisfied: scipy>=1.4.1 in /usr/local/lib/python3.10/dist-packages (from adversarial-robustness-toolbox) (1.13.1)\n",
            "Requirement already satisfied: scikit-learn>=0.22.2 in /usr/local/lib/python3.10/dist-packages (from adversarial-robustness-toolbox) (1.5.2)\n",
            "Requirement already satisfied: six in /usr/local/lib/python3.10/dist-packages (from adversarial-robustness-toolbox) (1.16.0)\n",
            "Requirement already satisfied: setuptools in /usr/local/lib/python3.10/dist-packages (from adversarial-robustness-toolbox) (71.0.4)\n",
            "Requirement already satisfied: tqdm in /usr/local/lib/python3.10/dist-packages (from adversarial-robustness-toolbox) (4.66.5)\n",
            "Requirement already satisfied: joblib>=1.2.0 in /usr/local/lib/python3.10/dist-packages (from scikit-learn>=0.22.2->adversarial-robustness-toolbox) (1.4.2)\n",
            "Requirement already satisfied: threadpoolctl>=3.1.0 in /usr/local/lib/python3.10/dist-packages (from scikit-learn>=0.22.2->adversarial-robustness-toolbox) (3.5.0)\n",
            "Downloading adversarial_robustness_toolbox-1.18.1-py3-none-any.whl (1.7 MB)\n",
            "\u001b[2K   \u001b[90m━━━━━━━━━━━━━━━━━━━━━━━━━━━━━━━━━━━━━━━━\u001b[0m \u001b[32m1.7/1.7 MB\u001b[0m \u001b[31m16.7 MB/s\u001b[0m eta \u001b[36m0:00:00\u001b[0m\n",
            "\u001b[?25hInstalling collected packages: adversarial-robustness-toolbox\n",
            "Successfully installed adversarial-robustness-toolbox-1.18.1\n"
          ]
        }
      ],
      "source": [
        "!pip install numpy pillow tensorflow deap matplotlib\n",
        "!pip install cleverhans==3.1.0\n",
        "!pip install adversarial-robustness-toolbox"
      ]
    },
    {
      "cell_type": "markdown",
      "source": [
        "## 2 - Importação das Bibliotecas"
      ],
      "metadata": {
        "id": "wB5WwvZEhw7V"
      }
    },
    {
      "cell_type": "code",
      "source": [
        "import numpy as np\n",
        "import matplotlib.pyplot as plt\n",
        "from PIL import Image\n",
        "from tensorflow.keras.applications import InceptionV3, ResNet101\n",
        "from tensorflow.keras.models import Model\n",
        "from tensorflow.keras.preprocessing.image import img_to_array, load_img\n",
        "from cleverhans.tf2.attacks import fast_gradient_method\n",
        "from art.estimators.classification import KerasClassifier\n",
        "from art.attacks import DeepFool\n",
        "from deap import base, creator, tools\n",
        "import os"
      ],
      "metadata": {
        "id": "T2rvp9NKh4HT"
      },
      "execution_count": null,
      "outputs": []
    },
    {
      "cell_type": "markdown",
      "source": [
        "## 3 - Carregamento do Dataset\n",
        "O dataset ILSVRC 2012 deve ser baixado e organizado em diretórios.\n",
        "\n",
        "https://image-net.org/download-images.php\n",
        "\n",
        "Se você tiver o dataset no seu computador, faça o upload para o Google Drive:\n",
        "\n",
        "    Acesse o Google Drive.\n",
        "    Crie uma nova pasta chamada \"ILSVRC\" (ou outro nome de sua escolha).\n",
        "    Faça o upload das imagens para essa pasta.\n",
        "\n",
        "Após esta etapa precisamos montar o Google Driva no Colab:\n",
        "\n",
        "\n"
      ],
      "metadata": {
        "id": "mUY8qDNTh7Zv"
      }
    },
    {
      "cell_type": "code",
      "source": [
        "from google.colab import drive\n",
        "drive.mount('/content/drive')"
      ],
      "metadata": {
        "id": "8feeLmPyxtXh",
        "colab": {
          "base_uri": "https://localhost:8080/"
        },
        "outputId": "59ef26b1-4654-4ed8-c384-25419b761d66"
      },
      "execution_count": null,
      "outputs": [
        {
          "output_type": "stream",
          "name": "stdout",
          "text": [
            "Mounted at /content/drive\n"
          ]
        }
      ]
    },
    {
      "cell_type": "markdown",
      "source": [
        "Carregando o Dataset"
      ],
      "metadata": {
        "id": "zfMl7Xh4xz2v"
      }
    },
    {
      "cell_type": "code",
      "source": [
        "import os\n",
        "import numpy as np\n",
        "from tensorflow.keras.preprocessing.image import load_img, img_to_array\n",
        "\n",
        "def load_images_from_folder(folder, max_images=None):\n",
        "    images = []\n",
        "    count = 0\n",
        "\n",
        "    # Percorre todas as subpastas e arquivos\n",
        "    for subdir, _, files in os.walk(folder):\n",
        "        for filename in files:\n",
        "            if filename.endswith(('png', 'jpg', 'jpeg')):  # Adicione formatos de imagem se necessário\n",
        "                img_path = os.path.join(subdir, filename)\n",
        "                img = load_img(img_path, target_size=(299, 299))  # Para InceptionV3\n",
        "                img = img_to_array(img) / 255.0  # Normaliza\n",
        "                images.append(img)\n",
        "                count += 1\n",
        "                # Se max_images for definido, limite o número de imagens carregadas\n",
        "                if max_images and count >= max_images:\n",
        "                    return np.array(images)\n",
        "\n",
        "    return np.array(images)\n",
        "\n",
        "# Define o caminho do dataset\n",
        "dataset_path = '/content/drive/MyDrive/images/validation/'  # ajuste o caminho conforme necessário\n",
        "\n",
        "# Carrega as imagens, limitando a 5000 se necessário\n",
        "x_test = load_images_from_folder(dataset_path, max_images=5000)\n",
        "\n",
        "## Caso não queira limitar\n",
        "#x_test = load_images_from_folder(dataset_path)"
      ],
      "metadata": {
        "id": "tNnndgiUiI6B"
      },
      "execution_count": null,
      "outputs": []
    },
    {
      "cell_type": "markdown",
      "source": [
        "## 4 - Definição da função de compressão e flip"
      ],
      "metadata": {
        "id": "j4BEThT5iLkz"
      }
    },
    {
      "cell_type": "code",
      "source": [
        "def compress_and_flip(image, qf):\n",
        "    # Salva a imagem como WebP com a qualidade especificada\n",
        "    compressed_image_path = 'temp.webp'\n",
        "    image.save(compressed_image_path, format='WEBP', quality=qf)\n",
        "\n",
        "    # Recarrega a imagem comprimida\n",
        "    img_compressed = Image.open(compressed_image_path)\n",
        "\n",
        "    # Aplica a operação flip\n",
        "    img_flipped = img_compressed.transpose(Image.FLIP_LEFT_RIGHT)\n",
        "\n",
        "    return img_flipped\n"
      ],
      "metadata": {
        "id": "M-VnENggiQ3_"
      },
      "execution_count": null,
      "outputs": []
    },
    {
      "cell_type": "markdown",
      "source": [
        "## 5 - Definição do modelo de classificação\n",
        "Carregue o modelo InceptionV3 ou ResNet101:"
      ],
      "metadata": {
        "id": "ONJMoIeOiTi2"
      }
    },
    {
      "cell_type": "code",
      "source": [
        "def create_model(model_type='inception'):\n",
        "    if model_type == 'inception':\n",
        "        model = InceptionV3(weights='imagenet')\n",
        "    elif model_type == 'resnet':\n",
        "        model = ResNet101(weights='imagenet')\n",
        "    model.trainable = False  # Não treinar o modelo\n",
        "    return model\n",
        "\n",
        "model = create_model('inception')  # Ou 'resnet'"
      ],
      "metadata": {
        "id": "2pIvD-CmiYDr",
        "colab": {
          "base_uri": "https://localhost:8080/"
        },
        "outputId": "9984f8a9-3138-4ab7-b687-99aa75761d78"
      },
      "execution_count": null,
      "outputs": [
        {
          "output_type": "stream",
          "name": "stdout",
          "text": [
            "Downloading data from https://storage.googleapis.com/tensorflow/keras-applications/inception_v3/inception_v3_weights_tf_dim_ordering_tf_kernels.h5\n",
            "\u001b[1m96112376/96112376\u001b[0m \u001b[32m━━━━━━━━━━━━━━━━━━━━\u001b[0m\u001b[37m\u001b[0m \u001b[1m1s\u001b[0m 0us/step\n"
          ]
        }
      ]
    },
    {
      "cell_type": "markdown",
      "source": [
        "## 6 - Avaliação do modelo com imagens transformadas\n",
        "Implemente a função que avalia o modelo usando imagens comprimidas e transformadas"
      ],
      "metadata": {
        "id": "rN6fjM37ibWL"
      }
    },
    {
      "cell_type": "code",
      "source": [
        "def evaluate_model(model, x_test, qf):\n",
        "    correct_predictions = 0\n",
        "\n",
        "    for i in range(len(x_test)):\n",
        "        original_image = Image.fromarray((x_test[i] * 255).astype(np.uint8))\n",
        "\n",
        "        # Aplica a compressão e flip\n",
        "        transformed_image = compress_and_flip(original_image, qf)\n",
        "        transformed_image = np.array(transformed_image) / 255.0\n",
        "\n",
        "        # Adiciona a dimensão do batch\n",
        "        transformed_image = np.expand_dims(transformed_image, axis=0)\n",
        "\n",
        "        # Faz a previsão\n",
        "        predictions = model.predict(transformed_image)\n",
        "        predicted_class = np.argmax(predictions, axis=1)\n",
        "\n",
        "        # Aqui você deve ter uma forma de obter a classe correta\n",
        "        correct_classes = ...  # Carregue as classes corretas para x_test\n",
        "        if predicted_class[0] == correct_classes[i]:\n",
        "            correct_predictions += 1\n",
        "\n",
        "    accuracy = correct_predictions / len(x_test)\n",
        "    return accuracy"
      ],
      "metadata": {
        "id": "ehy64Dbxiigq"
      },
      "execution_count": null,
      "outputs": []
    },
    {
      "cell_type": "markdown",
      "source": [
        "## 7 - Avaliação do Modelo sem o algoritmo genético\n",
        "Avalie a acurácia do modelo com diferentes faixas de QF sem usar o algoritmo genético"
      ],
      "metadata": {
        "id": "rrLGHVksih8L"
      }
    },
    {
      "cell_type": "code",
      "source": [
        "qf_values = [10, 30, 50, 70, 90]\n",
        "accuracies_no_genetic = []\n",
        "\n",
        "for qf in qf_values:\n",
        "    accuracy = evaluate_model(model, x_test, qf)\n",
        "    accuracies_no_genetic.append(accuracy)\n",
        "    print(f'Acurácia sem algoritmo genético com QF={qf}: {accuracy:.2f}')"
      ],
      "metadata": {
        "id": "5zSt1opXip7E"
      },
      "execution_count": null,
      "outputs": []
    },
    {
      "cell_type": "markdown",
      "source": [
        "## 8 - Integração do Algoritmo Genético\n",
        "Adicione a configuração do algoritmo genético para otimizar o QF"
      ],
      "metadata": {
        "id": "TKSauPItitCV"
      }
    },
    {
      "cell_type": "code",
      "source": [
        "creator.create(\"FitnessMax\", base.Fitness, weights=(1.0,))\n",
        "creator.create(\"Individual\", list, fitness=creator.FitnessMax)\n",
        "\n",
        "def eval_function(individual):\n",
        "    qf = int(individual[0])  # O primeiro gene é o QF\n",
        "    accuracy = evaluate_model(model, x_test, qf)\n",
        "    return (accuracy,)\n",
        "\n",
        "toolbox = base.Toolbox()\n",
        "toolbox.register(\"QF\", np.random.randint, 10, 100)\n",
        "toolbox.register(\"individual\", tools.initRepeat, creator.Individual, toolbox.QF, n=1)\n",
        "toolbox.register(\"population\", tools.initRepeat, list, toolbox.individual)\n",
        "toolbox.register(\"evaluate\", eval_function)\n",
        "toolbox.register(\"mate\", tools.cxBlend, alpha=0.5)\n",
        "toolbox.register(\"mutate\", tools.mutGaussian, mu=50, sigma=10, indpb=0.2)\n",
        "toolbox.register(\"select\", tools.selTournament, tournsize=3)\n",
        "\n",
        "# Algoritmo genético\n",
        "population = toolbox.population(n=10)\n",
        "for gen in range(10):\n",
        "    fits = list(map(toolbox.evaluate, population))\n",
        "    for fit, ind in zip(fits, population):\n",
        "        ind.fitness.values = fit\n",
        "    offspring = toolbox.select(population, len(population))\n",
        "    offspring = list(map(toolbox.clone, offspring))\n",
        "\n",
        "    for child1, child2 in zip(offspring[::2], offspring[1::2]):\n",
        "        if np.random.rand() < 0.5:\n",
        "            toolbox.mate(child1, child2)\n",
        "            del child1.fitness.values\n",
        "            del child2.fitness.values\n",
        "\n",
        "    for mutant in offspring:\n",
        "        if np.random.rand() < 0.2:\n",
        "            toolbox.mutate(mutant)\n",
        "            del mutant.fitness.values\n",
        "\n",
        "    population[:] = offspring\n",
        "\n",
        "best_ind = tools.selBest(population, 1)[0]\n",
        "best_qf = int(best_ind[0])\n",
        "print(f'Best QF found: {best_qf}')\n"
      ],
      "metadata": {
        "id": "L6HB_o1Gi4wi"
      },
      "execution_count": null,
      "outputs": []
    },
    {
      "cell_type": "markdown",
      "source": [
        "## 9 - Avaliação do Modelo com Algoritmo Genético"
      ],
      "metadata": {
        "id": "WYvVG4WSld5v"
      }
    },
    {
      "cell_type": "code",
      "source": [
        "accuracy_genetic = evaluate_model(model, x_test, y_test, best_qf)\n",
        "print(f'Acurácia com algoritmo genético (QF={best_qf}): {accuracy_genetic:.2f}')"
      ],
      "metadata": {
        "id": "zJW7wH_uljkK"
      },
      "execution_count": null,
      "outputs": []
    },
    {
      "cell_type": "markdown",
      "source": [
        "## 10 - Visualizando os resultados da Acurácia\n",
        "Plote a acurácia em função dos diferentes valores de QF, incluindo a do modelo otimizado pelo algoritmo genético"
      ],
      "metadata": {
        "id": "XaR4tM_clmzW"
      }
    },
    {
      "cell_type": "code",
      "source": [
        "# Coletar as acurácias\n",
        "accuracies_genetic = []\n",
        "for qf in qf_values:\n",
        "    accuracy = evaluate_model(model, x_test, qf)\n",
        "    accuracies_genetic.append(accuracy)\n",
        "\n",
        "# Visualizando os resultados\n",
        "plt.figure(figsize=(10, 6))\n",
        "plt.plot(qf_values, accuracies_no_genetic, marker='o', label='Sem Algoritmo Genético')\n",
        "plt.axhline(y=accuracy_genetic, color='r', linestyle='--', label=f'Com Algoritmo Genético (QF={best_qf})')\n",
        "plt.title('Comparação de Acurácia do Modelo')\n",
        "plt.xlabel('Quality Factor (QF)')\n",
        "plt.ylabel('Acurácia')\n",
        "plt.xticks(qf_values)  # Define os ticks do eixo x\n",
        "plt.grid(True)\n",
        "plt.legend()\n",
        "plt.show()\n"
      ],
      "metadata": {
        "id": "1NURRrb5ll5G"
      },
      "execution_count": null,
      "outputs": []
    },
    {
      "cell_type": "markdown",
      "source": [
        "## 11 - Visualização de Imagens Originais e Transformadas"
      ],
      "metadata": {
        "id": "JtkkSj4VlvmS"
      }
    },
    {
      "cell_type": "code",
      "source": [
        "def display_images(original_images, transformed_images_no_genetic, transformed_images_genetic, num_images=5):\n",
        "    plt.figure(figsize=(15, 8))\n",
        "\n",
        "    for i in range(num_images):\n",
        "        # Imagem original\n",
        "        plt.subplot(3, num_images, i + 1)\n",
        "        plt.imshow(original_images[i])\n",
        "        plt.title(\"Original\")\n",
        "        plt.axis(\"off\")\n",
        "\n",
        "        # Imagem transformada sem AG\n",
        "        plt.subplot(3, num_images, i + 1 + num_images)\n",
        "        plt.imshow(transformed_images_no_genetic[i])\n",
        "        plt.title(\"Transformada (Sem AG)\")\n",
        "        plt.axis(\"off\")\n",
        "\n",
        "        # Imagem transformada com AG\n",
        "        plt.subplot(3, num_images, i + 1 + 2*num_images)\n",
        "        plt.imshow(transformed_images_genetic[i])\n",
        "        plt.title(\"Transformada (Com AG)\")\n",
        "        plt.axis(\"off\")\n",
        "\n",
        "    plt.tight_layout()\n",
        "    plt.show()\n"
      ],
      "metadata": {
        "id": "12OfQgLil3Rp"
      },
      "execution_count": null,
      "outputs": []
    },
    {
      "cell_type": "markdown",
      "source": [
        "## 12 Aplicação e visualização\n",
        "Após calcular o QF ótimo com o algoritmo genético, aplique a compressão e flip para ambas as condições e visualize os resultados"
      ],
      "metadata": {
        "id": "VbW113OWtz0u"
      }
    },
    {
      "cell_type": "code",
      "source": [
        "# Supondo que você tenha carregado as imagens em x_test\n",
        "num_images_to_display = 5\n",
        "transformed_images_no_genetic = []\n",
        "transformed_images_genetic = []\n",
        "\n",
        "# Usando um QF fixo para o caso sem AG\n",
        "qf_fixed = 50\n",
        "\n",
        "# Transformações sem algoritmo genético\n",
        "for i in range(num_images_to_display):\n",
        "    original_image = Image.fromarray((x_test[i] * 255).astype(np.uint8))\n",
        "    transformed_image_no_genetic = compress_and_flip(original_image, qf_fixed)\n",
        "    transformed_images_no_genetic.append(np.array(transformed_image_no_genetic) / 255.0)\n",
        "\n",
        "# Transformações com algoritmo genético\n",
        "for i in range(num_images_to_display):\n",
        "    original_image = Image.fromarray((x_test[i] * 255).astype(np.uint8))\n",
        "    transformed_image_genetic = compress_and_flip(original_image, best_qf)  # Usando QF otimizado\n",
        "    transformed_images_genetic.append(np.array(transformed_image_genetic) / 255.0)\n",
        "\n",
        "# Exibindo as imagens\n",
        "display_images(x_test[:num_images_to_display], transformed_images_no_genetic, transformed_images_genetic)\n"
      ],
      "metadata": {
        "id": "G7IxDJe0uBWI"
      },
      "execution_count": null,
      "outputs": []
    },
    {
      "cell_type": "markdown",
      "source": [
        "## Conclusão\n",
        "\n",
        "Agora, ao executar o código, você verá três linhas de imagens:\n",
        "\n",
        "    A primeira linha mostra as imagens originais.\n",
        "    A segunda linha mostra as imagens transformadas com um QF fixo (sem o algoritmo genético).\n",
        "    A terceira linha mostra as imagens transformadas com o QF otimizado pelo algoritmo genético.\n",
        "\n",
        "Isso permitirá que você compare visualmente os efeitos das transformações em ambas as situações."
      ],
      "metadata": {
        "id": "j4HyAqSluEPV"
      }
    }
  ]
}